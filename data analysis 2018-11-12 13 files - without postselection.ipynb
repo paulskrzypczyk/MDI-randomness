{
 "cells": [
  {
   "cell_type": "markdown",
   "metadata": {},
   "source": [
    "# Data analysis for 2018-11-12 13 files without postselection"
   ]
  },
  {
   "cell_type": "markdown",
   "metadata": {},
   "source": [
    "The code reads in the data from the associated .xlsx files, which contains information on:\n",
    "- the number of photons produced\n",
    "- the number of individual events\n",
    "- the estimated probability distribution (after post-selecting on click events)\n",
    "\n",
    "The code then runs the finite analysis SDP with a confidence parameter $\\epsilon$, in order to find out how much randomness can be certified."
   ]
  },
  {
   "cell_type": "code",
   "execution_count": 37,
   "metadata": {},
   "outputs": [
    {
     "name": "stdout",
     "output_type": "stream",
     "text": [
      "Warning: A non-empty cvx problem already exists in this scope.\n",
      "   It is being overwritten.\n",
      "> In cvxprob (line 28)\n",
      "  In cvx_begin (line 41)\n",
      "Hmin =\n",
      "  Columns 1 through 7\n",
      "    0.1885    0.1878    0.1870    0.1870    0.1874    0.1881    0.1991\n",
      "  Columns 8 through 13\n",
      "    0.1987    0.2089    0.2092    0.2097    0.2102    0.2100\n",
      "Elapsed time is 50.534517 seconds.\n"
     ]
    }
   ],
   "source": [
    "tic\n",
    "\n",
    "S = dir('*.xlsx');\n",
    "nfiles = length(S);\n",
    "\n",
    "epsi = 1E-9;\n",
    "xs = 5;\n",
    "\n",
    "Pg = zeros(1,nfiles);\n",
    "Hmin = zeros(1,nfiles);\n",
    "\n",
    "etaD = 0.8;\n",
    "\n",
    "for i = 1:nfiles\n",
    "    S(i).name;\n",
    "    data = xlsread(S(i).name);\n",
    "    \n",
    "    nax = [data(1:5,1:10)'];\n",
    "    mu = str2num(regexp(S(i).name,'(?<=mi).+(?=.xlsx$)','once','match'));\n",
    "    f = 1/etaD*exp(-mu)/(1-exp(-mu)) + (1-etaD)/etaD;\n",
    "    \n",
    "    nax = [sum(nax)*f; nax]; \n",
    "    xiax = nax./(ones(11,1)*sum(nax,1));\n",
    "    \n",
    "    \n",
    "    p0 = exp(-mu); % we assume postselection\n",
    "    p1 = exp(-mu)*mu;\n",
    "    p2 = exp(-mu)*mu^2/2;\n",
    "\n",
    "    psum = p0 + p1 + p2;\n",
    "\n",
    "    p0 = p0/psum;\n",
    "    p1 = p1/psum;\n",
    "    p2 = p2/psum;\n",
    "\n",
    "    d = 15;\n",
    "    kets = eye(d);\n",
    "    omegax = zeros(d,d,5);\n",
    "\n",
    "    omegax(:,:,1) = p0*kets(:,1)*kets(1,:) + p1*kets(:,2)*kets(2,:) + p2*kets(:,6)*kets(6,:);\n",
    "    omegax(:,:,2) = p0*kets(:,1)*kets(1,:) + p1*kets(:,3)*kets(3,:) + p2*kets(:,7)*kets(7,:);\n",
    "    omegax(:,:,3) = p0*kets(:,1)*kets(1,:) + p1*kets(:,4)*kets(4,:) + p2*kets(:,8)*kets(8,:);\n",
    "    omegax(:,:,4) = p0*kets(:,1)*kets(1,:) + p1*kets(:,5)*kets(5,:) + p2*kets(:,9)*kets(9,:);\n",
    "\n",
    "    chi = 1/2*(kets(:,2) - kets(:,3) + kets(:,4) + kets(:,5));\n",
    "    chi2 = (kets(:,6) + kets(:,7) + kets(:,8) + kets(:,9) +2*kets(:,15)...\n",
    "            -2*kets(:,14)+2*kets(:,13)-2*kets(:,12)+2*kets(:,11)-2*kets(:,10));\n",
    "    chi2 = chi2/sqrt(trace(chi2*chi2'));\n",
    "\n",
    "    omegax(:,:,5) = p0*kets(:,1)*kets(1,:) + p1*chi*chi' + p2*chi2*chi2';\n",
    "    \n",
    "    [oa,ma] = size(xiax);\n",
    "\n",
    "    cvx_begin sdp quiet\n",
    "\n",
    "        variable Nae(d,d,oa,oa) hermitian semidefinite\n",
    "        variable qe(oa)\n",
    "        variable Pax(oa,ma)\n",
    "      \n",
    "        maximise real(sumall(conj(repmat(omegax(:,:,xs),[1,1,oa,oa])).*Nae.*...\n",
    "            permute(repmat(eye(oa),[1,1,d,d]),[3,4,1,2])))\n",
    "    \n",
    "        for a = 1:oa-1\n",
    "            for x = 1:ma\n",
    "                xiax(a,x) - sqrt(log(1/epsi)/2/sum(nax(:,x))) <= trace(sum(Nae(:,:,a,:),4)*omegax(:,:,x))\n",
    "                trace(sum(Nae(:,:,a,:),4)*omegax(:,:,x)) <= xiax(a,x) + sqrt(log(1/epsi)/2/sum(nax(:,x))) \n",
    "            end\n",
    "        end\n",
    "    \n",
    "    \n",
    "        for e = 1:oa \n",
    "            sum(Nae(:,:,:,e),3) == qe(e)*eye(d)\n",
    "        end\n",
    "    \n",
    "        sum(qe) == 1\n",
    "    \n",
    "    cvx_end\n",
    "\n",
    "    Pg(i) = cvx_optval;\n",
    "    Hmin(i) = -log2(cvx_optval);\n",
    "\n",
    "end\n",
    "\n",
    "Hmin\n",
    "\n",
    "toc"
   ]
  },
  {
   "cell_type": "code",
   "execution_count": 38,
   "metadata": {},
   "outputs": [
    {
     "name": "stdout",
     "output_type": "stream",
     "text": [
      "ans =\n",
      "    0.1978\n"
     ]
    },
    {
     "data": {
      "image/png": "[encoded data removed]",
      "text/plain": [
       "<IPython.core.display.Image object>"
      ]
     },
     "metadata": {},
     "output_type": "display_data"
    }
   ],
   "source": [
    "plot(Hmin,'*')\n",
    "ylim([0 1.1*max(Hmin)])\n",
    "xlabel('experimental run')\n",
    "ylabel('$H_{min}(x^*)$ per round')\n",
    "sum(Hmin)/length(Hmin)"
   ]
  },
  {
   "cell_type": "code",
   "execution_count": 3,
   "metadata": {},
   "outputs": [
    {
     "name": "stdout",
     "output_type": "stream",
     "text": [
      "ans =\n",
      "    1.1337    1.1782\n"
     ]
    }
   ],
   "source": [
    "[min(Hmin) max(Hmin)]"
   ]
  },
  {
   "cell_type": "code",
   "execution_count": null,
   "metadata": {},
   "outputs": [],
   "source": []
  }
 ],
 "metadata": {
  "kernelspec": {
   "display_name": "Matlab",
   "language": "matlab",
   "name": "matlab"
  },
  "language_info": {
   "codemirror_mode": "octave",
   "file_extension": ".m",
   "help_links": [
    {
     "text": "MetaKernel Magics",
     "url": "https://github.com/calysto/metakernel/blob/master/metakernel/magics/README.md"
    }
   ],
   "mimetype": "text/x-octave",
   "name": "matlab",
   "version": "0.15.0"
  }
 },
 "nbformat": 4,
 "nbformat_minor": 2
}
