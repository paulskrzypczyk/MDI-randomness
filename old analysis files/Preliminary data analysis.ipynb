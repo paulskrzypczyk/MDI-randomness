{
 "cells": [
  {
   "cell_type": "markdown",
   "metadata": {},
   "source": [
    "# Preliminary data analysis"
   ]
  },
  {
   "cell_type": "markdown",
   "metadata": {},
   "source": [
    "In this notebook, we will carry out some preliminary data analysis for a single experimental run, to ensure that everything works properly, before writing a more general notebook which is able to analyse all of the experimental runs. The primary goal here is to make sure that we can carry out a finite-statistics analysis of the data and still obtain interesting results."
   ]
  },
  {
   "cell_type": "markdown",
   "metadata": {},
   "source": [
    "Read in the data from the associated xlsx file:"
   ]
  },
  {
   "cell_type": "code",
   "execution_count": 23,
   "metadata": {},
   "outputs": [],
   "source": [
    "data = xlsread('MV0.9924_mi0.40_(29Agosto_1442_data1000)_parte1.xlsx');"
   ]
  },
  {
   "cell_type": "markdown",
   "metadata": {},
   "source": [
    "**Extract the relevant data:**  \n",
    "$n_{ax}$ : The raw counts for the events  \n",
    "$\\xi(a|x)$: The experimentally estimated probabilities  \n",
    "$\\mu$: the average number of photons in the pump pulse"
   ]
  },
  {
   "cell_type": "code",
   "execution_count": 32,
   "metadata": {},
   "outputs": [],
   "source": [
    "nax = data(1:5,2:11)';\n",
    "xiax = data(26:2:34,2:11)';\n",
    "mu = data(12,2);"
   ]
  },
  {
   "cell_type": "markdown",
   "metadata": {},
   "source": [
    "Given the data for $\\mu$, define the states $\\omega_x$ prepared in the experiment.  \n",
    "We assume that at most 2 photons are produced, and hence truncate the Hilbert space up to 2 photons.  \n",
    "We also assume that we are post-selecting on there being at least one photon detected\n",
    "\n",
    "**Note**: I am assuming the old $\\omega_4$ for the moment, since I don't know what the new state being produced is, however I don't believe this will change much in the following"
   ]
  },
  {
   "cell_type": "code",
   "execution_count": 33,
   "metadata": {},
   "outputs": [],
   "source": [
    "p0 = 0; % we assume postselection\n",
    "p1 = exp(-mu)*mu;\n",
    "p2 = exp(-mu)*mu^2/2;\n",
    "\n",
    "psum = p0 + p1 + p2;\n",
    "\n",
    "p0 = p0/psum;\n",
    "p1 = p1/psum;\n",
    "p2 = p2/psum;\n",
    "\n",
    "d = 15;\n",
    "kets = eye(d);\n",
    "omegax = zeros(d,d,5);\n",
    "\n",
    "omegax(:,:,1) = p0*kets(:,1)*kets(1,:) + p1*kets(:,2)*kets(2,:) + p2*kets(:,6)*kets(6,:);\n",
    "omegax(:,:,2) = p0*kets(:,1)*kets(1,:) + p1*kets(:,3)*kets(3,:) + p2*kets(:,7)*kets(7,:);\n",
    "omegax(:,:,3) = p0*kets(:,1)*kets(1,:) + p1*kets(:,4)*kets(4,:) + p2*kets(:,8)*kets(8,:);\n",
    "omegax(:,:,4) = p0*kets(:,1)*kets(1,:) + p1*kets(:,5)*kets(5,:) + p2*kets(:,9)*kets(9,:);\n",
    "\n",
    "chi = 1/2*(1i*kets(:,2) + kets(:,3) -1i*kets(:,4) + kets(:,5));\n",
    "chi2 = (-kets(:,6)+kets(:,7)-kets(:,8)+kets(:,9)+2*1i*kets(:,15)...\n",
    "            +2*kets(:,14)+2*1i*kets(:,13)-2*1i*kets(:,12)+2*kets(:,11)-2*1i*kets(:,10));\n",
    "chi2 = chi2/sqrt(trace(chi2*chi2'));\n",
    "\n",
    "omegax(:,:,5) = p0*kets(:,1)*kets(1,:) + p1*chi*chi' + p2*chi2*chi2';"
   ]
  },
  {
   "cell_type": "markdown",
   "metadata": {},
   "source": [
    "SDP to find the optimal dual variables $I_{ax}$ and $\\nu$, which will give a bound of the form  \n",
    "$$ P_g \\leq \\nu + \\sum_{a,x}I_{ax}\\xi(a|x) $$\n",
    "valid for infinite statistics.  \n",
    "\n",
    "The SDP solved is the following:\n",
    "\\begin{align}\n",
    "P_g(x^*) = \\max&\\quad \\mathrm{tr} \\sum_{a} N_{aa} \\omega_{x^*} \\\\\n",
    "\\text{s.t.}&\\quad \\xi(a|x) = \\mathrm{tr}\\sum_e N_{ae}\\omega_x \\quad \\forall a,x \\\\\n",
    "&\\quad \\sum_a N_{ae} = q(e) \\mathbb{I} \\quad \\forall e \\\\\n",
    "&\\quad \\sum_e q(e) = 1\n",
    "\\end{align}\n",
    "where the maximisation is over POVMs $\\mathbb{N} = \\{N_{ae}\\}_{ae}$ and probability distributions $\\mathbf{q} = \\{q(e)\\}_e$. The dual variables of this SDP give rise to $I_{ax}$ and $\\nu$"
   ]
  },
  {
   "cell_type": "code",
   "execution_count": 84,
   "metadata": {},
   "outputs": [
    {
     "name": "stdout",
     "output_type": "stream",
     "text": [
      "Pgfull =\n",
      "    0.4323\n",
      "Hminfull =\n",
      "    1.2100\n"
     ]
    }
   ],
   "source": [
    "xs = 5;\n",
    "[oa,ma] = size(xiax);\n",
    "\n",
    "cvx_begin sdp quiet\n",
    "\n",
    "    variable Nae(d,d,oa,oa) hermitian semidefinite\n",
    "    variable qe(oa) nonnegative\n",
    "    \n",
    "    dual variables Iax{oa-1,ma}\n",
    "    dual variables Xa{oa}\n",
    "    dual variable nu\n",
    "    \n",
    "    maximise real(sumall(conj(repmat(omegax(:,:,xs),[1,1,oa,oa])).*Nae.*...\n",
    "        permute(repmat(eye(oa),[1,1,d,d]),[3,4,1,2])))\n",
    "    \n",
    "    for a = 1:oa-1\n",
    "        for x = 1:ma\n",
    "            Iax{a,x} : xiax(a,x) == trace(sum(Nae(:,:,a,:),4)*omegax(:,:,x))\n",
    "        end\n",
    "    end\n",
    "    \n",
    "    \n",
    "    for e = 1:oa\n",
    "        Xa{e} : sum(Nae(:,:,:,e),3) == qe(e)*eye(d)\n",
    "    end\n",
    "    \n",
    "    nu : sum(qe) == 1\n",
    "    \n",
    "cvx_end\n",
    "\n",
    "Iax = cell2mat(Iax);\n",
    "\n",
    "Pgfull = cvx_optval\n",
    "Hminfull = -log2(Pgfull)\n",
    "\n",
    "sumall(Iax.*(xiax(1:oa-1,:))) - nu;"
   ]
  },
  {
   "cell_type": "markdown",
   "metadata": {},
   "source": [
    "SDP to find the guessing probability given finite statistics, using the Chernoff-Hoeffding inequality.  This fill find an inequality of the following form\n",
    "$$ P_g \\leq \\nu + \\sum_{ax} [u_{ax} - l_{ax}]\\xi(a|x) + \\sum_x t_x(\\epsilon) \\left[\\sum_a (u_{ax} + l_{ax})\\right] $$\n",
    "where\n",
    "$$ t_x(\\epsilon) = \\sqrt{\\frac{\\log(1/\\epsilon)}{2\\sum_a n_{ax}}} $$\n",
    "and such that $u_{ax} \\geq 0$ and $l_{ax} \\geq 0$ for all $a,x$. \n",
    "\n",
    "The SDP solved is the following:\n",
    "\\begin{align}\n",
    "P_g(x^*) = \\max&\\quad \\mathrm{tr} \\sum_{a} N_{aa} \\omega_{x^*} \\\\\n",
    "\\text{s.t.}&\\quad  \\xi(a|x) - t_x(\\epsilon) \\leq \\mathrm{tr}\\sum_e N_{ae}\\omega_x \\leq \\xi(a|x) + t_x(\\epsilon) \\quad \\forall a,x\\\\\n",
    "&\\quad \\sum_a N_{ae} = q(e) \\mathbb{I} \\quad \\forall e \\\\\n",
    "&\\quad \\sum_e q(e) = 1\n",
    "\\end{align}\n",
    "where the maximisation is over POVMs $\\mathbb{N} = \\{N_{ae}\\}_{ae}$, probability distributions $\\mathbf{q} = \\{q(e)\\}_e$. The difference with the previous SDP is that we no longer require $\\mathrm{tr}\\sum_e N_{ae}\\omega_x$ is equal to the observed probabilities (which we would only expect to be true in the limit of infinite statistics), but it should be bounded by the observed frequencies $\\xi(a|x)$, depending on the number of counts $n_{ax}$ and a confidence parameter $\\epsilon$, through the parameters $t_x(\\epsilon)$.\n",
    "\n"
   ]
  },
  {
   "cell_type": "code",
   "execution_count": 88,
   "metadata": {},
   "outputs": [
    {
     "name": "stdout",
     "output_type": "stream",
     "text": [
      "Pgfull =\n",
      "    0.5129\n",
      "Hminfull =\n",
      "    0.9632\n"
     ]
    }
   ],
   "source": [
    "epsi = 1E-9;\n",
    "\n",
    "xs = 5;\n",
    "[oa,ma] = size(xiax);\n",
    "\n",
    "cvx_begin sdp quiet\n",
    "\n",
    "    variable Nae(d,d,oa,oa) hermitian semidefinite\n",
    "    variable qe(oa)\n",
    "    variable Pax(oa,ma)\n",
    "      \n",
    "    maximise real(sumall(conj(repmat(omegax(:,:,xs),[1,1,oa,oa])).*Nae.*...\n",
    "        permute(repmat(eye(oa),[1,1,d,d]),[3,4,1,2])))\n",
    "    \n",
    "    for a = 1:oa-1\n",
    "        for x = 1:ma\n",
    "            xiax(a,x) - sqrt(log(1/epsi)/2/sum(nax(:,x))) <= trace(sum(Nae(:,:,a,:),4)*omegax(:,:,x))\n",
    "            trace(sum(Nae(:,:,a,:),4)*omegax(:,:,x)) <= xiax(a,x) + sqrt(log(1/epsi)/2/sum(nax(:,x))) \n",
    "        end\n",
    "    end\n",
    "    \n",
    "    \n",
    "    for e = 1:oa \n",
    "        sum(Nae(:,:,:,e),3) == qe(e)*eye(d)\n",
    "    end\n",
    "    \n",
    "    sum(qe) == 1\n",
    "    \n",
    "cvx_end\n",
    "\n",
    "Pgfull = cvx_optval\n",
    "Hminfull = -log2(Pgfull)\n"
   ]
  },
  {
   "cell_type": "markdown",
   "metadata": {},
   "source": [
    "Thus, due to the finite statistics, we see that we obtain have a decrease in min entropy of 0.2468 due to the finite statistics, dropping us just below 1 bit/round"
   ]
  }
 ],
 "metadata": {
  "kernelspec": {
   "display_name": "Matlab",
   "language": "matlab",
   "name": "matlab"
  },
  "language_info": {
   "codemirror_mode": "octave",
   "file_extension": ".m",
   "help_links": [
    {
     "text": "MetaKernel Magics",
     "url": "https://github.com/calysto/metakernel/blob/master/metakernel/magics/README.md"
    }
   ],
   "mimetype": "text/x-octave",
   "name": "matlab",
   "version": "0.15.0"
  }
 },
 "nbformat": 4,
 "nbformat_minor": 2
}
