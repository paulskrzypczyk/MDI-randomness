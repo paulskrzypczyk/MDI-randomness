{
 "cells": [
  {
   "cell_type": "markdown",
   "metadata": {},
   "source": [
    "# Experimental randomness from quantum inputs"
   ]
  },
  {
   "cell_type": "markdown",
   "metadata": {},
   "source": [
    "## Experimental Parameters (including losses)"
   ]
  },
  {
   "cell_type": "code",
   "execution_count": 44,
   "metadata": {},
   "outputs": [],
   "source": [
    "p0 = 0.6065;\n",
    "p1 = 0.3032;\n",
    "p2 = 0.0758;\n",
    "\n",
    "psum = p0+p1+p2;\n",
    "p0 = p0/psum;\n",
    "p1 = p1/psum;\n",
    "p2 = p2/psum;"
   ]
  },
  {
   "cell_type": "markdown",
   "metadata": {},
   "source": [
    "Probability distribution:\n",
    "The events are $a = \\{\\emptyset, 0, 1, 2, 3, 01, 02, 03, 12, 13, 23\\}$. \n",
    "where the modes are labelled $0$ - $3$, and $\\emptyset$ signifies no-click."
   ]
  },
  {
   "cell_type": "code",
   "execution_count": 46,
   "metadata": {},
   "outputs": [
    {
     "name": "stdout",
     "output_type": "stream",
     "text": [
      "Pax =\n",
      "    0.6154    0.6154    0.6154    0.6154    0.6154\n",
      "    0.3846         0         0         0    0.0797\n",
      "         0    0.3846         0         0    0.0797\n",
      "         0         0    0.3846         0    0.0797\n",
      "         0         0         0    0.3846    0.0797\n",
      "         0         0         0         0    0.0110\n",
      "         0         0         0         0    0.0110\n",
      "         0         0         0         0    0.0110\n",
      "         0         0         0         0    0.0110\n",
      "         0         0         0         0    0.0110\n",
      "         0         0         0         0    0.0110\n",
      "ans =\n",
      "     1     1     1     1     1\n"
     ]
    }
   ],
   "source": [
    "oa = 11; % number of outcomes\n",
    "ma = 5; % number of states;\n",
    "\n",
    "Pax = zeros(oa,ma);\n",
    "\n",
    "for x = 1:ma\n",
    "    Pax(1,x) = p0; % no click probability\n",
    "end\n",
    "\n",
    "for x = 1:4\n",
    "    Pax(x+1,x) = p1+p2;\n",
    "end\n",
    "\n",
    "for a = 2:5\n",
    "    Pax(a,5) = p1/4 + p2/28;\n",
    "end\n",
    "\n",
    "for a = 6:11\n",
    "    Pax(a,5) = 4*p2/28;\n",
    "end\n",
    "\n",
    "Pax\n",
    "sum(Pax,1)"
   ]
  },
  {
   "cell_type": "markdown",
   "metadata": {},
   "source": [
    "Input states:"
   ]
  },
  {
   "cell_type": "code",
   "execution_count": 4,
   "metadata": {},
   "outputs": [],
   "source": [
    "d = 15;\n",
    "kets = eye(d);\n",
    "omegax = zeros(d,d,ma);\n",
    "\n",
    "omegax(:,:,1) = p0*kets(:,1)*kets(1,:) + p1*kets(:,2)*kets(2,:) + p2*kets(:,6)*kets(6,:);\n",
    "omegax(:,:,2) = p0*kets(:,1)*kets(1,:) + p1*kets(:,3)*kets(3,:) + p2*kets(:,7)*kets(7,:);\n",
    "omegax(:,:,3) = p0*kets(:,1)*kets(1,:) + p1*kets(:,4)*kets(4,:) + p2*kets(:,8)*kets(8,:);\n",
    "omegax(:,:,4) = p0*kets(:,1)*kets(1,:) + p1*kets(:,5)*kets(5,:) + p2*kets(:,9)*kets(9,:);\n",
    "\n",
    "chi = 1/2*(1i*kets(:,2) + kets(:,3) -1i*kets(:,4) + kets(:,5));\n",
    "chi2 = (-kets(:,6)+kets(:,7)-kets(:,8)+kets(:,9)+2*1i*kets(:,15)+2*kets(:,14)+2*1i*kets(:,13)-2*1i*kets(:,12)+2*kets(:,11)-2*1i*kets(:,10));\n",
    "chi2 = chi2/sqrt(trace(chi2*chi2'));\n",
    "\n",
    "omegax(:,:,5) = p0*kets(:,1)*kets(1,:) + p1*chi*chi' + p2*chi2*chi2';"
   ]
  },
  {
   "cell_type": "markdown",
   "metadata": {},
   "source": [
    "### SDP based on full data"
   ]
  },
  {
   "cell_type": "code",
   "execution_count": 6,
   "metadata": {},
   "outputs": [
    {
     "name": "stdout",
     "output_type": "stream",
     "text": [
      "Pgfull =\n",
      "    0.6154\n",
      "Hminfull =\n",
      "    0.7003\n"
     ]
    }
   ],
   "source": [
    "xs = 5;\n",
    "\n",
    "cvx_begin sdp quiet\n",
    "\n",
    "    variable Nae(d,d,oa,oa) hermitian semidefinite\n",
    "    variable qe(oa) nonnegative\n",
    "    \n",
    "    dual variables Iax{oa-1,ma}\n",
    "    dual variables Xa{oa}\n",
    "    dual variable nu\n",
    "    \n",
    "    maximise real(sumall(conj(repmat(omegax(:,:,xs),[1,1,oa,oa])).*Nae.*...\n",
    "        permute(repmat(eye(oa),[1,1,d,d]),[3,4,1,2])))\n",
    "    \n",
    "    for a = 1:oa-1\n",
    "        for x = 1:ma\n",
    "            Iax{a,x} : Pax(a,x) == trace(sum(Nae(:,:,a,:),4)*omegax(:,:,x))\n",
    "        end\n",
    "    end\n",
    "    \n",
    "    \n",
    "    for e = 1:oa\n",
    "        Xa{e} : sum(Nae(:,:,:,e),3) == qe(e)*eye(d)\n",
    "    end\n",
    "    \n",
    "    nu : sum(qe) == 1\n",
    "    \n",
    "cvx_end\n",
    "\n",
    "Iax = cell2mat(Iax);\n",
    "\n",
    "Pgfull = cvx_optval\n",
    "Hminfull = -log2(Pgfull)"
   ]
  },
  {
   "cell_type": "markdown",
   "metadata": {},
   "source": [
    "### Extract inequality"
   ]
  },
  {
   "cell_type": "code",
   "execution_count": 12,
   "metadata": {},
   "outputs": [
    {
     "name": "stdout",
     "output_type": "stream",
     "text": [
      "Iaxp =\n",
      "    0.7180    0.7180    0.7180    0.7180   -0.9510\n",
      "    1.0000         0         0         0         0\n",
      "         0    1.0000         0         0         0\n",
      "         0         0    1.0000         0         0\n",
      "         0         0         0    1.0000         0\n",
      "         0         0         0         0         0\n",
      "         0         0         0         0         0\n",
      "         0         0         0         0         0\n",
      "         0         0         0         0         0\n",
      "         0         0         0         0         0\n",
      "         0         0         0         0         0\n"
     ]
    }
   ],
   "source": [
    "Iaxp = [Iax; zeros(1,ma)]; %make it the same dimension as Pax\n",
    "Iaxp(1:5,1:4) = Iaxp(1:5,1:4) - Iaxp(3,1); %set 'off-diagonal' terms equal to zero (in the zero+one photon subspaces)\n",
    "Iaxp = Iaxp/Iaxp(2,1); % make the diagonal elements (in the one photon subspace) equal to one\n",
    "\n",
    "Iaxp = round(1E3*Iaxp)/1E3 % round the result"
   ]
  },
  {
   "cell_type": "markdown",
   "metadata": {},
   "source": [
    "### SDP based upon functional $I_{ax}$"
   ]
  },
  {
   "cell_type": "code",
   "execution_count": 14,
   "metadata": {},
   "outputs": [
    {
     "name": "stdout",
     "output_type": "stream",
     "text": [
      "PgI =\n",
      "    0.6154\n",
      "HminI =\n",
      "    0.7003\n"
     ]
    }
   ],
   "source": [
    "cvx_begin sdp quiet\n",
    "\n",
    "    variable Nae(d,d,oa,oa) hermitian semidefinite\n",
    "    variable qe(oa) nonnegative\n",
    "    \n",
    "    expression beta\n",
    "    \n",
    "    maximise real(sumall(conj(repmat(omegax(:,:,xs),[1,1,oa,oa])).*Nae.*...\n",
    "        permute(repmat(eye(oa),[1,1,d,d]),[3,4,1,2])))\n",
    "    \n",
    "    beta = 0;\n",
    "    for a = 1:oa\n",
    "        for x = 1:ma\n",
    "            beta = beta + Iaxp(a,x)*trace(sum(Nae(:,:,a,:),4)*omegax(:,:,x));\n",
    "        end\n",
    "    end\n",
    "    \n",
    "    beta == sumall(Iaxp.*Pax)\n",
    "    \n",
    "    for e = 1:oa\n",
    "        sum(Nae(:,:,:,e),3) == qe(e)*eye(d)\n",
    "    end\n",
    "    \n",
    "    sum(qe) == 1\n",
    "    \n",
    "cvx_end\n",
    "\n",
    "PgI = cvx_optval\n",
    "HminI = -log2(PgI)"
   ]
  },
  {
   "cell_type": "markdown",
   "metadata": {},
   "source": [
    "We see that we obtain the same amount of randomness from the simple functional above.\n",
    "\n",
    "Unfortunately I don't know have analytic expressions for the two parameters $I_{\\emptyset,x}$ for $x \\in \\{0,1,2,3\\}$ and $x = 5$. "
   ]
  },
  {
   "cell_type": "markdown",
   "metadata": {},
   "source": [
    "## Post-selecting (ignoring no-click events)"
   ]
  },
  {
   "cell_type": "code",
   "execution_count": 55,
   "metadata": {},
   "outputs": [],
   "source": [
    "p0 = 0;\n",
    "p1 = 0.3032;\n",
    "p2 = 0.0758;\n",
    "\n",
    "psum = p1+p2;\n",
    "p1 = p1/psum;\n",
    "p2 = p2/psum;"
   ]
  },
  {
   "cell_type": "markdown",
   "metadata": {},
   "source": [
    "Probability distribution:\n",
    "The events are $a = \\{0, 1, 2, 3, 01, 02, 03, 12, 13, 23\\}$. \n",
    "where the modes are labelled $0$ - $3$,"
   ]
  },
  {
   "cell_type": "code",
   "execution_count": 65,
   "metadata": {},
   "outputs": [
    {
     "name": "stdout",
     "output_type": "stream",
     "text": [
      "Pax =\n",
      "    1.0000         0         0         0    0.2071\n",
      "         0    1.0000         0         0    0.2071\n",
      "         0         0    1.0000         0    0.2071\n",
      "         0         0         0    1.0000    0.2071\n",
      "         0         0         0         0    0.0286\n",
      "         0         0         0         0    0.0286\n",
      "         0         0         0         0    0.0286\n",
      "         0         0         0         0    0.0286\n",
      "         0         0         0         0    0.0286\n",
      "         0         0         0         0    0.0286\n",
      "ans =\n",
      "     1     1     1     1     1\n",
      "Paxd =\n",
      "    0.9991    0.0001    0.0001    0.0001    0.2070\n",
      "    0.0001    0.9991    0.0001    0.0001    0.2070\n",
      "    0.0001    0.0001    0.9991    0.0001    0.2070\n",
      "    0.0001    0.0001    0.0001    0.9991    0.2070\n",
      "    0.0001    0.0001    0.0001    0.0001    0.0286\n",
      "    0.0001    0.0001    0.0001    0.0001    0.0286\n",
      "    0.0001    0.0001    0.0001    0.0001    0.0286\n",
      "    0.0001    0.0001    0.0001    0.0001    0.0286\n",
      "    0.0001    0.0001    0.0001    0.0001    0.0286\n",
      "    0.0001    0.0001    0.0001    0.0001    0.0286\n"
     ]
    }
   ],
   "source": [
    "oa = 10; % number of outcomes\n",
    "ma = 5; % number of states;\n",
    "\n",
    "Pax = zeros(oa,ma);\n",
    "\n",
    "for x = 1:4\n",
    "    Pax(x,x) = p1+p2;\n",
    "end\n",
    "\n",
    "for a = 1:4\n",
    "    Pax(a,5) = p1/4 + p2/28;\n",
    "end\n",
    "\n",
    "for a = 5:10\n",
    "    Pax(a,5) = 4*p2/28;\n",
    "end\n",
    "\n",
    "Pax\n",
    "sum(Pax,1)\n",
    "\n",
    "delta = 0.999;\n",
    "\n",
    "Paxd = delta*Pax + (1-delta)*ones(oa,ma)/oa"
   ]
  },
  {
   "cell_type": "markdown",
   "metadata": {},
   "source": [
    "Input states:"
   ]
  },
  {
   "cell_type": "code",
   "execution_count": 66,
   "metadata": {},
   "outputs": [],
   "source": [
    "da = 15;\n",
    "kets = eye(da);\n",
    "omegax = zeros(d,d,ma);\n",
    "\n",
    "omegax(:,:,1) = p0*kets(:,1)*kets(1,:) + p1*kets(:,2)*kets(2,:) + p2*kets(:,6)*kets(6,:);\n",
    "omegax(:,:,2) = p0*kets(:,1)*kets(1,:) + p1*kets(:,3)*kets(3,:) + p2*kets(:,7)*kets(7,:);\n",
    "omegax(:,:,3) = p0*kets(:,1)*kets(1,:) + p1*kets(:,4)*kets(4,:) + p2*kets(:,8)*kets(8,:);\n",
    "omegax(:,:,4) = p0*kets(:,1)*kets(1,:) + p1*kets(:,5)*kets(5,:) + p2*kets(:,9)*kets(9,:);\n",
    "\n",
    "chi = 1/2*(1i*kets(:,2) + kets(:,3) -1i*kets(:,4) + kets(:,5));\n",
    "chi2 = (-kets(:,6)+kets(:,7)-kets(:,8)+kets(:,9)+2*1i*kets(:,15)+2*kets(:,14)+2*1i*kets(:,13)-2*1i*kets(:,12)+2*kets(:,11)-2*1i*kets(:,10));\n",
    "chi2 = chi2/sqrt(trace(chi2*chi2'));\n",
    "\n",
    "omegax(:,:,5) = p0*kets(:,1)*kets(1,:) + p1*chi*chi' + p2*chi2*chi2';"
   ]
  },
  {
   "cell_type": "markdown",
   "metadata": {},
   "source": [
    "### SDP based on full data"
   ]
  },
  {
   "cell_type": "code",
   "execution_count": 67,
   "metadata": {},
   "outputs": [
    {
     "name": "stdout",
     "output_type": "stream",
     "text": [
      "cvx_optval =\n",
      "    0.2371\n",
      "ans =\n",
      "    2.0762\n",
      "Pfgull =\n",
      "    0.2233\n",
      "Hminfull =\n",
      "    2.1630\n"
     ]
    }
   ],
   "source": [
    "xs = 5;\n",
    "\n",
    "cvx_begin sdp quiet\n",
    "\n",
    "    variable Nae(da,da,oa,oa) hermitian semidefinite\n",
    "    variable qe(oa) nonnegative\n",
    "    \n",
    "    dual variables Iax{oa-1,ma}\n",
    "    dual variables Xa{oa}\n",
    "    dual variable nu\n",
    "    \n",
    "    maximise real(sumall(conj(repmat(omegax(:,:,xs),[1,1,oa,oa])).*Nae.*...\n",
    "        permute(repmat(eye(oa),[1,1,da,da]),[3,4,1,2])))\n",
    "    \n",
    "    for a = 1:oa-1\n",
    "        for x = 1:ma\n",
    "            Iax{a,x} : Paxd(a,x) == trace(sum(Nae(:,:,a,:),4)*omegax(:,:,x))\n",
    "        end\n",
    "    end\n",
    "    \n",
    "    \n",
    "    for e = 1:oa\n",
    "        Xa{e} : sum(Nae(:,:,:,e),3) == qe(e)*eye(da)\n",
    "    end\n",
    "    \n",
    "    nu : sum(qe) == 1\n",
    "    \n",
    "cvx_end\n",
    "\n",
    "Iax = cell2mat(Iax);\n",
    "\n",
    "cvx_optval\n",
    "-log2(cvx_optval)\n",
    "\n",
    "Pfgull = sumall(Iax.*Pax(1:oa-1,:)) - nu\n",
    "Hminfull = -log2(Pfgull)"
   ]
  },
  {
   "cell_type": "markdown",
   "metadata": {},
   "source": [
    "### Extract inequality"
   ]
  },
  {
   "cell_type": "code",
   "execution_count": 68,
   "metadata": {},
   "outputs": [
    {
     "name": "stdout",
     "output_type": "stream",
     "text": [
      "Iaxp =\n",
      "   -1.8445    6.3537    6.3537    6.3537    0.9793\n",
      "    6.3537   -1.8445    6.3537    6.3537    0.9793\n",
      "    6.3537    6.3537   -1.8445    6.3537    0.9793\n",
      "    6.3537    6.3537    6.3537   -1.8445    0.9793\n",
      "   -0.0000   -0.0000   -0.0000   -0.0000    0.0000\n",
      "   -0.0000   -0.0000   -0.0000   -0.0000    0.0000\n",
      "   -0.0000   -0.0000   -0.0000   -0.0000    0.0000\n",
      "   -0.0000   -0.0000   -0.0000   -0.0000    0.0000\n",
      "   -0.0000   -0.0000   -0.0000   -0.0000    0.0000\n",
      "         0         0         0         0         0\n",
      "Iaxp =\n",
      "    1.0000         0         0         0   -0.1195\n",
      "         0    1.0000         0         0   -0.1195\n",
      "         0         0    1.0000         0   -0.1195\n",
      "         0         0         0    1.0000   -0.1195\n",
      "         0         0         0         0         0\n",
      "         0         0         0         0         0\n",
      "         0         0         0         0         0\n",
      "         0         0         0         0         0\n",
      "         0         0         0         0         0\n",
      "         0         0         0         0         0\n"
     ]
    }
   ],
   "source": [
    "Iaxp = [Iax; zeros(1,ma)] %make it the same dimension as Pax\n",
    "Iaxp(1:4,1:4) = Iaxp(1:4,1:4) - Iaxp(3,1); %set 'off-diagonal' terms equal to zero (in the zero+one photon subspaces)\n",
    "Iaxp = Iaxp/Iaxp(1,1); % make the diagonal elements (in the one photon subspace) equal to one\n",
    "\n",
    "Iaxp = round(1E5*Iaxp)/1E5 % round the result"
   ]
  },
  {
   "cell_type": "markdown",
   "metadata": {},
   "source": [
    "### SDP based upon functional $I_{ax}$"
   ]
  },
  {
   "cell_type": "code",
   "execution_count": 69,
   "metadata": {},
   "outputs": [
    {
     "name": "stdout",
     "output_type": "stream",
     "text": [
      "PgI =\n",
      "    0.2161\n",
      "HminI =\n",
      "    2.2103\n"
     ]
    }
   ],
   "source": [
    "cvx_begin sdp quiet\n",
    "\n",
    "    variable Nae(da,da,oa,oa) hermitian semidefinite\n",
    "    variable qe(oa) nonnegative\n",
    "    \n",
    "    expression beta\n",
    "    \n",
    "    maximise real(sumall(conj(repmat(omegax(:,:,xs),[1,1,oa,oa])).*Nae.*...\n",
    "        permute(repmat(eye(oa),[1,1,da,da]),[3,4,1,2])))\n",
    "    \n",
    "    beta = 0;\n",
    "    for a = 1:oa\n",
    "        for x = 1:ma\n",
    "            beta = beta + Iaxp(a,x)*trace(sum(Nae(:,:,a,:),4)*omegax(:,:,x));\n",
    "        end\n",
    "    end\n",
    "    \n",
    "    beta == sumall(Iaxp.*Pax)\n",
    "    \n",
    "    for e = 1:oa\n",
    "        sum(Nae(:,:,:,e),3) == qe(e)*eye(da)\n",
    "    end\n",
    "    \n",
    "    sum(qe) == 1\n",
    "    \n",
    "cvx_end\n",
    "\n",
    "PgI = cvx_optval\n",
    "HminI = -log2(PgI)"
   ]
  },
  {
   "cell_type": "markdown",
   "metadata": {},
   "source": [
    "Now we obtain slightly less randomness, but still a comparable amount, with a simple functional"
   ]
  },
  {
   "cell_type": "markdown",
   "metadata": {},
   "source": [
    "# 10 July 2018"
   ]
  },
  {
   "cell_type": "markdown",
   "metadata": {},
   "source": [
    "## Finite statistics analysis"
   ]
  },
  {
   "cell_type": "markdown",
   "metadata": {},
   "source": [
    "We want to find out how many rounds need to considered in order to obtain $log(3)$ bits of randomness "
   ]
  },
  {
   "cell_type": "code",
   "execution_count": null,
   "metadata": {},
   "outputs": [],
   "source": []
  }
 ],
 "metadata": {
  "kernelspec": {
   "display_name": "Matlab",
   "language": "matlab",
   "name": "matlab"
  },
  "language_info": {
   "codemirror_mode": "octave",
   "file_extension": ".m",
   "help_links": [
    {
     "text": "MetaKernel Magics",
     "url": "https://github.com/calysto/metakernel/blob/master/metakernel/magics/README.md"
    }
   ],
   "mimetype": "text/x-octave",
   "name": "matlab",
   "version": "0.15.0"
  }
 },
 "nbformat": 4,
 "nbformat_minor": 2
}
