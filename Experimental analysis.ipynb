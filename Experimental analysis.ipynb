{
 "cells": [
  {
   "cell_type": "markdown",
   "metadata": {},
   "source": [
    "# Experimental randomness from quantum inputs"
   ]
  },
  {
   "cell_type": "markdown",
   "metadata": {},
   "source": [
    "## Experimental Parameters (including losses)"
   ]
  },
  {
   "cell_type": "code",
   "execution_count": 44,
   "metadata": {},
   "outputs": [],
   "source": [
    "p0 = 0.6065;\n",
    "p1 = 0.3032;\n",
    "p2 = 0.0758;\n",
    "\n",
    "psum = p0+p1+p2;\n",
    "p0 = p0/psum;\n",
    "p1 = p1/psum;\n",
    "p2 = p2/psum;"
   ]
  },
  {
   "cell_type": "markdown",
   "metadata": {},
   "source": [
    "Probability distribution:\n",
    "The events are $a = \\{\\emptyset, 0, 1, 2, 3, 01, 02, 03, 12, 13, 23\\}$. \n",
    "where the modes are labelled $0$ - $3$, and $\\emptyset$ signifies no-click."
   ]
  },
  {
   "cell_type": "code",
   "execution_count": 46,
   "metadata": {},
   "outputs": [
    {
     "name": "stdout",
     "output_type": "stream",
     "text": [
      "Pax =\n",
      "    0.6154    0.6154    0.6154    0.6154    0.6154\n",
      "    0.3846         0         0         0    0.0797\n",
      "         0    0.3846         0         0    0.0797\n",
      "         0         0    0.3846         0    0.0797\n",
      "         0         0         0    0.3846    0.0797\n",
      "         0         0         0         0    0.0110\n",
      "         0         0         0         0    0.0110\n",
      "         0         0         0         0    0.0110\n",
      "         0         0         0         0    0.0110\n",
      "         0         0         0         0    0.0110\n",
      "         0         0         0         0    0.0110\n",
      "ans =\n",
      "     1     1     1     1     1\n"
     ]
    }
   ],
   "source": [
    "oa = 11; % number of outcomes\n",
    "ma = 5; % number of states;\n",
    "\n",
    "Pax = zeros(oa,ma);\n",
    "\n",
    "for x = 1:ma\n",
    "    Pax(1,x) = p0; % no click probability\n",
    "end\n",
    "\n",
    "for x = 1:4\n",
    "    Pax(x+1,x) = p1+p2;\n",
    "end\n",
    "\n",
    "for a = 2:5\n",
    "    Pax(a,5) = p1/4 + p2/28;\n",
    "end\n",
    "\n",
    "for a = 6:11\n",
    "    Pax(a,5) = 4*p2/28;\n",
    "end\n",
    "\n",
    "Pax\n",
    "sum(Pax,1)"
   ]
  },
  {
   "cell_type": "markdown",
   "metadata": {},
   "source": [
    "Input states:"
   ]
  },
  {
   "cell_type": "code",
   "execution_count": 4,
   "metadata": {},
   "outputs": [],
   "source": [
    "d = 15;\n",
    "kets = eye(d);\n",
    "omegax = zeros(d,d,ma);\n",
    "\n",
    "omegax(:,:,1) = p0*kets(:,1)*kets(1,:) + p1*kets(:,2)*kets(2,:) + p2*kets(:,6)*kets(6,:);\n",
    "omegax(:,:,2) = p0*kets(:,1)*kets(1,:) + p1*kets(:,3)*kets(3,:) + p2*kets(:,7)*kets(7,:);\n",
    "omegax(:,:,3) = p0*kets(:,1)*kets(1,:) + p1*kets(:,4)*kets(4,:) + p2*kets(:,8)*kets(8,:);\n",
    "omegax(:,:,4) = p0*kets(:,1)*kets(1,:) + p1*kets(:,5)*kets(5,:) + p2*kets(:,9)*kets(9,:);\n",
    "\n",
    "chi = 1/2*(1i*kets(:,2) + kets(:,3) -1i*kets(:,4) + kets(:,5));\n",
    "chi2 = (-kets(:,6)+kets(:,7)-kets(:,8)+kets(:,9)+2*1i*kets(:,15)+2*kets(:,14)+2*1i*kets(:,13)-2*1i*kets(:,12)+2*kets(:,11)-2*1i*kets(:,10));\n",
    "chi2 = chi2/sqrt(trace(chi2*chi2'));\n",
    "\n",
    "omegax(:,:,5) = p0*kets(:,1)*kets(1,:) + p1*chi*chi' + p2*chi2*chi2';"
   ]
  },
  {
   "cell_type": "markdown",
   "metadata": {},
   "source": [
    "### SDP based on full data"
   ]
  },
  {
   "cell_type": "code",
   "execution_count": 6,
   "metadata": {},
   "outputs": [
    {
     "name": "stdout",
     "output_type": "stream",
     "text": [
      "Pgfull =\n",
      "    0.6154\n",
      "Hminfull =\n",
      "    0.7003\n"
     ]
    }
   ],
   "source": [
    "xs = 5;\n",
    "\n",
    "cvx_begin sdp quiet\n",
    "\n",
    "    variable Nae(d,d,oa,oa) hermitian semidefinite\n",
    "    variable qe(oa) nonnegative\n",
    "    \n",
    "    dual variables Iax{oa-1,ma}\n",
    "    dual variables Xa{oa}\n",
    "    dual variable nu\n",
    "    \n",
    "    maximise real(sumall(conj(repmat(omegax(:,:,xs),[1,1,oa,oa])).*Nae.*...\n",
    "        permute(repmat(eye(oa),[1,1,d,d]),[3,4,1,2])))\n",
    "    \n",
    "    for a = 1:oa-1\n",
    "        for x = 1:ma\n",
    "            Iax{a,x} : Pax(a,x) == trace(sum(Nae(:,:,a,:),4)*omegax(:,:,x))\n",
    "        end\n",
    "    end\n",
    "    \n",
    "    \n",
    "    for e = 1:oa\n",
    "        Xa{e} : sum(Nae(:,:,:,e),3) == qe(e)*eye(d)\n",
    "    end\n",
    "    \n",
    "    nu : sum(qe) == 1\n",
    "    \n",
    "cvx_end\n",
    "\n",
    "Iax = cell2mat(Iax);\n",
    "\n",
    "Pgfull = cvx_optval\n",
    "Hminfull = -log2(Pgfull)"
   ]
  },
  {
   "cell_type": "markdown",
   "metadata": {},
   "source": [
    "### Extract inequality"
   ]
  },
  {
   "cell_type": "code",
   "execution_count": 12,
   "metadata": {},
   "outputs": [
    {
     "name": "stdout",
     "output_type": "stream",
     "text": [
      "Iaxp =\n",
      "    0.7180    0.7180    0.7180    0.7180   -0.9510\n",
      "    1.0000         0         0         0         0\n",
      "         0    1.0000         0         0         0\n",
      "         0         0    1.0000         0         0\n",
      "         0         0         0    1.0000         0\n",
      "         0         0         0         0         0\n",
      "         0         0         0         0         0\n",
      "         0         0         0         0         0\n",
      "         0         0         0         0         0\n",
      "         0         0         0         0         0\n",
      "         0         0         0         0         0\n"
     ]
    }
   ],
   "source": [
    "Iaxp = [Iax; zeros(1,ma)]; %make it the same dimension as Pax\n",
    "Iaxp(1:5,1:4) = Iaxp(1:5,1:4) - Iaxp(3,1); %set 'off-diagonal' terms equal to zero (in the zero+one photon subspaces)\n",
    "Iaxp = Iaxp/Iaxp(2,1); % make the diagonal elements (in the one photon subspace) equal to one\n",
    "\n",
    "Iaxp = round(1E3*Iaxp)/1E3 % round the result"
   ]
  },
  {
   "cell_type": "markdown",
   "metadata": {},
   "source": [
    "### SDP based upon functional $I_{ax}$"
   ]
  },
  {
   "cell_type": "code",
   "execution_count": 14,
   "metadata": {},
   "outputs": [
    {
     "name": "stdout",
     "output_type": "stream",
     "text": [
      "PgI =\n",
      "    0.6154\n",
      "HminI =\n",
      "    0.7003\n"
     ]
    }
   ],
   "source": [
    "cvx_begin sdp quiet\n",
    "\n",
    "    variable Nae(d,d,oa,oa) hermitian semidefinite\n",
    "    variable qe(oa) nonnegative\n",
    "    \n",
    "    expression beta\n",
    "    \n",
    "    maximise real(sumall(conj(repmat(omegax(:,:,xs),[1,1,oa,oa])).*Nae.*...\n",
    "        permute(repmat(eye(oa),[1,1,d,d]),[3,4,1,2])))\n",
    "    \n",
    "    beta = 0;\n",
    "    for a = 1:oa\n",
    "        for x = 1:ma\n",
    "            beta = beta + Iaxp(a,x)*trace(sum(Nae(:,:,a,:),4)*omegax(:,:,x));\n",
    "        end\n",
    "    end\n",
    "    \n",
    "    beta == sumall(Iaxp.*Pax)\n",
    "    \n",
    "    for e = 1:oa\n",
    "        sum(Nae(:,:,:,e),3) == qe(e)*eye(d)\n",
    "    end\n",
    "    \n",
    "    sum(qe) == 1\n",
    "    \n",
    "cvx_end\n",
    "\n",
    "PgI = cvx_optval\n",
    "HminI = -log2(PgI)"
   ]
  },
  {
   "cell_type": "markdown",
   "metadata": {},
   "source": [
    "We see that we obtain the same amount of randomness from the simple functional above.\n",
    "\n",
    "Unfortunately I don't know have analytic expressions for the two parameters $I_{\\emptyset,x}$ for $x \\in \\{0,1,2,3\\}$ and $x = 5$. "
   ]
  },
  {
   "cell_type": "markdown",
   "metadata": {},
   "source": [
    "## Post-selecting (ignoring no-click events)"
   ]
  },
  {
   "cell_type": "code",
   "execution_count": 37,
   "metadata": {},
   "outputs": [],
   "source": [
    "p0 = 0;\n",
    "p1 = 0.3032;\n",
    "p2 = 0.0758;\n",
    "\n",
    "psum = p1+p2;\n",
    "p1 = p1/psum;\n",
    "p2 = p2/psum;"
   ]
  },
  {
   "cell_type": "markdown",
   "metadata": {},
   "source": [
    "Probability distribution:\n",
    "The events are $a = \\{0, 1, 2, 3, 01, 02, 03, 12, 13, 23\\}$. \n",
    "where the modes are labelled $0$ - $3$,"
   ]
  },
  {
   "cell_type": "code",
   "execution_count": 38,
   "metadata": {},
   "outputs": [
    {
     "name": "stdout",
     "output_type": "stream",
     "text": [
      "Pax =\n",
      "    1.0000         0         0         0    0.2071\n",
      "         0    1.0000         0         0    0.2071\n",
      "         0         0    1.0000         0    0.2071\n",
      "         0         0         0    1.0000    0.2071\n",
      "         0         0         0         0    0.0286\n",
      "         0         0         0         0    0.0286\n",
      "         0         0         0         0    0.0286\n",
      "         0         0         0         0    0.0286\n",
      "         0         0         0         0    0.0286\n",
      "         0         0         0         0    0.0286\n",
      "ans =\n",
      "     1     1     1     1     1\n",
      "Paxd =\n",
      "    0.9991    0.0001    0.0001    0.0001    0.2070\n",
      "    0.0001    0.9991    0.0001    0.0001    0.2070\n",
      "    0.0001    0.0001    0.9991    0.0001    0.2070\n",
      "    0.0001    0.0001    0.0001    0.9991    0.2070\n",
      "    0.0001    0.0001    0.0001    0.0001    0.0286\n",
      "    0.0001    0.0001    0.0001    0.0001    0.0286\n",
      "    0.0001    0.0001    0.0001    0.0001    0.0286\n",
      "    0.0001    0.0001    0.0001    0.0001    0.0286\n",
      "    0.0001    0.0001    0.0001    0.0001    0.0286\n",
      "    0.0001    0.0001    0.0001    0.0001    0.0286\n"
     ]
    }
   ],
   "source": [
    "oa = 10; % number of outcomes\n",
    "ma = 5; % number of states;\n",
    "\n",
    "Pax = zeros(oa,ma);\n",
    "\n",
    "for x = 1:4\n",
    "    Pax(x,x) = p1+p2;\n",
    "end\n",
    "\n",
    "for a = 1:4\n",
    "    Pax(a,5) = p1/4 + p2/28;\n",
    "end\n",
    "\n",
    "for a = 5:10\n",
    "    Pax(a,5) = 4*p2/28;\n",
    "end\n",
    "\n",
    "Pax\n",
    "sum(Pax,1)\n",
    "\n",
    "delta = 0.999;\n",
    "\n",
    "Paxd = delta*Pax + (1-delta)*ones(oa,ma)/oa"
   ]
  },
  {
   "cell_type": "markdown",
   "metadata": {},
   "source": [
    "Input states:"
   ]
  },
  {
   "cell_type": "code",
   "execution_count": 40,
   "metadata": {},
   "outputs": [],
   "source": [
    "da = 15;\n",
    "kets = eye(da);\n",
    "omegax = zeros(da,da,ma);\n",
    "\n",
    "omegax(:,:,1) = p0*kets(:,1)*kets(1,:) + p1*kets(:,2)*kets(2,:) + p2*kets(:,6)*kets(6,:);\n",
    "omegax(:,:,2) = p0*kets(:,1)*kets(1,:) + p1*kets(:,3)*kets(3,:) + p2*kets(:,7)*kets(7,:);\n",
    "omegax(:,:,3) = p0*kets(:,1)*kets(1,:) + p1*kets(:,4)*kets(4,:) + p2*kets(:,8)*kets(8,:);\n",
    "omegax(:,:,4) = p0*kets(:,1)*kets(1,:) + p1*kets(:,5)*kets(5,:) + p2*kets(:,9)*kets(9,:);\n",
    "\n",
    "chi = 1/2*(1i*kets(:,2) + kets(:,3) -1i*kets(:,4) + kets(:,5));\n",
    "chi2 = (-kets(:,6)+kets(:,7)-kets(:,8)+kets(:,9)+2*1i*kets(:,15)+2*kets(:,14)+2*1i*kets(:,13)-2*1i*kets(:,12)+2*kets(:,11)-2*1i*kets(:,10));\n",
    "chi2 = chi2/sqrt(trace(chi2*chi2'));\n",
    "\n",
    "omegax(:,:,5) = p0*kets(:,1)*kets(1,:) + p1*chi*chi' + p2*chi2*chi2';"
   ]
  },
  {
   "cell_type": "markdown",
   "metadata": {},
   "source": [
    "### SDP based on full data"
   ]
  },
  {
   "cell_type": "code",
   "execution_count": 41,
   "metadata": {},
   "outputs": [
    {
     "name": "stdout",
     "output_type": "stream",
     "text": [
      "cvx_optval =\n",
      "    0.2371\n",
      "ans =\n",
      "    2.0762\n",
      "Pfgull =\n",
      "    0.2233\n",
      "Hminfull =\n",
      "    2.1630\n"
     ]
    }
   ],
   "source": [
    "xs = 5;\n",
    "\n",
    "cvx_begin sdp quiet\n",
    "\n",
    "    variable Nae(da,da,oa,oa) hermitian semidefinite\n",
    "    variable qe(oa) nonnegative\n",
    "    \n",
    "    dual variables Iax{oa-1,ma}\n",
    "    dual variables Xa{oa}\n",
    "    dual variable nu\n",
    "    \n",
    "    maximise real(sumall(conj(repmat(omegax(:,:,xs),[1,1,oa,oa])).*Nae.*...\n",
    "        permute(repmat(eye(oa),[1,1,da,da]),[3,4,1,2])))\n",
    "    \n",
    "    for a = 1:oa-1\n",
    "        for x = 1:ma\n",
    "            Iax{a,x} : Paxd(a,x) == trace(sum(Nae(:,:,a,:),4)*omegax(:,:,x))\n",
    "        end\n",
    "    end\n",
    "    \n",
    "    \n",
    "    for e = 1:oa\n",
    "        Xa{e} : sum(Nae(:,:,:,e),3) == qe(e)*eye(da)\n",
    "    end\n",
    "    \n",
    "    nu : sum(qe) == 1\n",
    "    \n",
    "cvx_end\n",
    "\n",
    "Iax = cell2mat(Iax);\n",
    "\n",
    "cvx_optval\n",
    "-log2(cvx_optval)\n",
    "\n",
    "Pfgull = sumall(Iax.*Pax(1:oa-1,:)) - nu\n",
    "Hminfull = -log2(Pfgull)"
   ]
  },
  {
   "cell_type": "markdown",
   "metadata": {},
   "source": [
    "### Extract inequality"
   ]
  },
  {
   "cell_type": "code",
   "execution_count": 42,
   "metadata": {},
   "outputs": [
    {
     "name": "stdout",
     "output_type": "stream",
     "text": [
      "Iaxp =\n",
      "   -1.8445    6.3537    6.3537    6.3537    0.9793\n",
      "    6.3537   -1.8445    6.3537    6.3537    0.9793\n",
      "    6.3537    6.3537   -1.8445    6.3537    0.9793\n",
      "    6.3537    6.3537    6.3537   -1.8445    0.9793\n",
      "   -0.0000   -0.0000   -0.0000   -0.0000    0.0000\n",
      "   -0.0000   -0.0000   -0.0000   -0.0000    0.0000\n",
      "   -0.0000   -0.0000   -0.0000   -0.0000    0.0000\n",
      "   -0.0000   -0.0000   -0.0000   -0.0000    0.0000\n",
      "   -0.0000   -0.0000   -0.0000   -0.0000    0.0000\n",
      "         0         0         0         0         0\n",
      "Iaxp =\n",
      "    1.0000         0         0         0   -0.1195\n",
      "         0    1.0000         0         0   -0.1195\n",
      "         0         0    1.0000         0   -0.1195\n",
      "         0         0         0    1.0000   -0.1195\n",
      "         0         0         0         0         0\n",
      "         0         0         0         0         0\n",
      "         0         0         0         0         0\n",
      "         0         0         0         0         0\n",
      "         0         0         0         0         0\n",
      "         0         0         0         0         0\n"
     ]
    }
   ],
   "source": [
    "Iaxp = [Iax; zeros(1,ma)] %make it the same dimension as Pax\n",
    "Iaxp(1:4,1:4) = Iaxp(1:4,1:4) - Iaxp(3,1); %set 'off-diagonal' terms equal to zero (in the zero+one photon subspaces)\n",
    "Iaxp = Iaxp/Iaxp(1,1); % make the diagonal elements (in the one photon subspace) equal to one\n",
    "\n",
    "Iaxp = round(1E5*Iaxp)/1E5 % round the result"
   ]
  },
  {
   "cell_type": "markdown",
   "metadata": {},
   "source": [
    "### SDP based upon functional $I_{ax}$"
   ]
  },
  {
   "cell_type": "code",
   "execution_count": 58,
   "metadata": {},
   "outputs": [
    {
     "name": "stdout",
     "output_type": "stream",
     "text": [
      "alpha =\n",
      "    0.1000\n",
      "betaobs =\n",
      "    3.9171\n",
      "PgI =\n",
      "    0.2147\n",
      "HminI =\n",
      "    2.2199\n"
     ]
    }
   ],
   "source": [
    "alpha = 0.1\n",
    "\n",
    "Iax = zeros(oa,ma);\n",
    "Iax(1:4,1:4) = eye(4);\n",
    "Iax(1:4,5) = -alpha*ones(1,4);\n",
    "\n",
    "betaobs = sumall(Iax.*Pax)\n",
    "\n",
    "cvx_begin sdp quiet\n",
    "\n",
    "    variable Nae(da,da,oa,oa) hermitian semidefinite\n",
    "    variable qe(oa) nonnegative\n",
    "    \n",
    "    expression beta\n",
    "    \n",
    "    maximise real(sumall(conj(repmat(omegax(:,:,xs),[1,1,oa,oa])).*Nae.*...\n",
    "        permute(repmat(eye(oa),[1,1,da,da]),[3,4,1,2])))\n",
    "    \n",
    "    beta = 0;\n",
    "    for a = 1:oa\n",
    "        for x = 1:ma\n",
    "            beta = beta + Iax(a,x)*trace(sum(Nae(:,:,a,:),4)*omegax(:,:,x));\n",
    "        end\n",
    "    end\n",
    "    \n",
    "    beta == sumall(Iax.*Pax)\n",
    "    \n",
    "    for e = 1:oa\n",
    "        sum(Nae(:,:,:,e),3) == qe(e)*eye(da)\n",
    "    end\n",
    "    \n",
    "    sum(qe) == 1\n",
    "    \n",
    "cvx_end\n",
    "\n",
    "PgI = cvx_optval\n",
    "HminI = -log2(PgI)"
   ]
  },
  {
   "cell_type": "markdown",
   "metadata": {},
   "source": [
    "Now we obtain slightly less randomness, but still a comparable amount, with a simple functional"
   ]
  },
  {
   "cell_type": "markdown",
   "metadata": {},
   "source": [
    "### Study of $I_{ax}(\\alpha)$ functionals"
   ]
  },
  {
   "cell_type": "code",
   "execution_count": 4,
   "metadata": {},
   "outputs": [],
   "source": [
    "p0 = 0;\n",
    "p1 = 0.3032;\n",
    "p2 = 0.0758;\n",
    "\n",
    "psum = p0+p1+p2;\n",
    "p1 = p1/psum;\n",
    "p2 = p2/psum;"
   ]
  },
  {
   "cell_type": "markdown",
   "metadata": {},
   "source": [
    "Input states:"
   ]
  },
  {
   "cell_type": "code",
   "execution_count": 7,
   "metadata": {},
   "outputs": [],
   "source": [
    "da = 15;\n",
    "ma = 5;\n",
    "\n",
    "kets = eye(da);\n",
    "omegax = zeros(da,da,ma);\n",
    "\n",
    "omegax(:,:,1) = p0*kets(:,1)*kets(1,:) + p1*kets(:,2)*kets(2,:) + p2*kets(:,6)*kets(6,:);\n",
    "omegax(:,:,2) = p0*kets(:,1)*kets(1,:) + p1*kets(:,3)*kets(3,:) + p2*kets(:,7)*kets(7,:);\n",
    "omegax(:,:,3) = p0*kets(:,1)*kets(1,:) + p1*kets(:,4)*kets(4,:) + p2*kets(:,8)*kets(8,:);\n",
    "omegax(:,:,4) = p0*kets(:,1)*kets(1,:) + p1*kets(:,5)*kets(5,:) + p2*kets(:,9)*kets(9,:);\n",
    "\n",
    "chi = 1/2*(1i*kets(:,2) + kets(:,3) -1i*kets(:,4) + kets(:,5));\n",
    "chi2 = (-kets(:,6)+kets(:,7)-kets(:,8)+kets(:,9)+2*1i*kets(:,15)+2*kets(:,14)+2*1i*kets(:,13)-2*1i*kets(:,12)+2*kets(:,11)-2*1i*kets(:,10));\n",
    "chi2 = chi2/sqrt(trace(chi2*chi2'));\n",
    "\n",
    "omegax(:,:,5) = p0*kets(:,1)*kets(1,:) + p1*chi*chi' + p2*chi2*chi2';"
   ]
  },
  {
   "cell_type": "markdown",
   "metadata": {},
   "source": [
    "#### SDP based upon functional $I_{ax}$"
   ]
  },
  {
   "cell_type": "code",
   "execution_count": 14,
   "metadata": {},
   "outputs": [
    {
     "name": "stdout",
     "output_type": "stream",
     "text": [
      "Created file '/home/phyps/git/MDI-randomness/MDIRandomnessIneq.m'.\n"
     ]
    }
   ],
   "source": [
    "%%file MDIRandomnessIneq.m\n",
    "\n",
    "function Pg = MDIRandomnessIneq(Iax,betaobs,omegax)\n",
    "\n",
    "[oa,ma] = size(Iax);\n",
    "[da,~,~] = size(omegax);\n",
    "\n",
    "xs = 5;\n",
    "\n",
    "cvx_begin sdp quiet\n",
    "\n",
    "    variable Nae(da,da,oa,oa) hermitian semidefinite\n",
    "    variable qe(oa) nonnegative\n",
    "    \n",
    "    expression beta\n",
    "    \n",
    "    maximise real(sumall(conj(repmat(omegax(:,:,xs),[1,1,oa,oa])).*Nae.*...\n",
    "        permute(repmat(eye(oa),[1,1,da,da]),[3,4,1,2])))\n",
    "    \n",
    "    beta = 0;\n",
    "    for a = 1:oa\n",
    "        for x = 1:ma\n",
    "            beta = beta + Iax(a,x)*trace(sum(Nae(:,:,a,:),4)*omegax(:,:,x));\n",
    "        end\n",
    "    end\n",
    "    \n",
    "    beta == betaobs\n",
    "    \n",
    "    for e = 1:oa\n",
    "        sum(Nae(:,:,:,e),3) == qe(e)*eye(da)\n",
    "    end\n",
    "    \n",
    "    sum(qe) == 1\n",
    "    \n",
    "cvx_end\n",
    "\n",
    "Pg = cvx_optval;\n",
    "\n",
    "end"
   ]
  },
  {
   "cell_type": "code",
   "execution_count": 53,
   "metadata": {},
   "outputs": [
    {
     "name": "stdout",
     "output_type": "stream",
     "text": [
      "Iaxmax =\n",
      "    4.0000\n",
      "Iaxmin =\n",
      "    2.7780\n",
      "Iaxmax =\n",
      "    3.9999\n",
      "Iaxmin =\n",
      "    2.7779\n",
      "Iaxmax =\n",
      "    3.9992\n",
      "Iaxmin =\n",
      "    2.7770\n",
      "Iaxmax =\n",
      "    3.9917\n",
      "Iaxmin =\n",
      "    2.7679\n",
      "Iaxmax =\n",
      "    3.9174\n",
      "Iaxmin =\n",
      "    2.6780\n"
     ]
    }
   ],
   "source": [
    "oa = 10;\n",
    "ma = 5;\n",
    "da = 15;\n",
    "\n",
    "eps = 1E-5;\n",
    "nsteps = 51;\n",
    "\n",
    "alphav = [1E-5 1E-4 1E-3 1E-2 1E-1];\n",
    "nalpha = length(alphav);\n",
    "\n",
    "betav = zeros(nalpha,nsteps);\n",
    "Hminv = zeros(nalpha,nsteps);\n",
    "\n",
    "for k = 1:nalpha\n",
    "\n",
    "    alpha = alphav(k);\n",
    "    Iax = zeros(oa,ma);\n",
    "    Iax(1:4,1:4) = eye(4);\n",
    "    Iax(1:4,5) = -alpha*ones(1,4);\n",
    "\n",
    "    cvx_begin sdp quiet\n",
    "\n",
    "        variable Ma(da,da,oa) hermitian semidefinite\n",
    "    \n",
    "        expression beta\n",
    "    \n",
    "        beta = 0;\n",
    "        for a = 1:oa\n",
    "            for x = 1:ma\n",
    "                beta = beta + Iax(a,x)*trace(Ma(:,:,a)*omegax(:,:,x));\n",
    "            end\n",
    "        end\n",
    "    \n",
    "        maximise beta\n",
    "    \n",
    "        sum(Ma,3) == eye(da)\n",
    "    \n",
    "    cvx_end\n",
    "\n",
    "    Iaxmax = cvx_optval\n",
    "\n",
    "    cvx_begin sdp quiet\n",
    "\n",
    "        variable Nae(da,da,oa,oa) hermitian semidefinite\n",
    "        variable qe(oa) nonnegative\n",
    "    \n",
    "        expression beta\n",
    "    \n",
    "        beta = 0;\n",
    "        for a = 1:oa\n",
    "            for x = 1:ma\n",
    "                beta = beta + Iax(a,x)*trace(sum(Nae(:,:,a,:),4)*omegax(:,:,x));\n",
    "            end\n",
    "        end\n",
    "    \n",
    "        maximise beta\n",
    "    \n",
    "        sumall(conj(repmat(omegax(:,:,5),[1,1,oa,oa])).*Nae.*...\n",
    "            permute(repmat(eye(oa),[1,1,da,da]),[3,4,1,2])) == 1\n",
    "    \n",
    "        for e = 1:oa\n",
    "            sum(Nae(:,:,:,e),3) == qe(e)*eye(da)\n",
    "        end\n",
    "    \n",
    "        sum(qe) == 1\n",
    "    \n",
    "    cvx_end\n",
    "\n",
    "    Iaxmin = cvx_optval\n",
    "\n",
    "    betav(k,:) = linspace(Iaxmin,Iaxmax-eps,nsteps);\n",
    "\n",
    "    for i = 1:nsteps\n",
    "        betaobs = betav(k,i);\n",
    "        Pg = MDIRandomnessIneq(Iax,betaobs,omegax);\n",
    "        Hminv(k,i) = -log2(Pg);\n",
    "    end\n",
    "end"
   ]
  },
  {
   "cell_type": "code",
   "execution_count": 55,
   "metadata": {},
   "outputs": [
    {
     "name": "stdout",
     "output_type": "stream",
     "text": [
      "Current plot held\n"
     ]
    },
    {
     "data": {
      "image/png": "[encoded data removed]",
      "text/plain": [
       "<IPython.core.display.Image object>"
      ]
     },
     "metadata": {},
     "output_type": "display_data"
    }
   ],
   "source": [
    "figure\n",
    "hold\n",
    "for k = 1:nalpha\n",
    "    plot(betav(k,:),Hminv(k,:))\n",
    "end"
   ]
  },
  {
   "cell_type": "markdown",
   "metadata": {},
   "source": [
    "### $\\beta_c$ in order to get $\\log(3)$ bits of randomness, as a function of $\\alpha$"
   ]
  },
  {
   "cell_type": "code",
   "execution_count": null,
   "metadata": {},
   "outputs": [],
   "source": [
    "oa = 10;\n",
    "ma = 5;\n",
    "da = 15;\n",
    "\n",
    "nalpha = 11;\n",
    "alphav = linspace(0,0.5,nalpha);\n",
    "\n",
    "\n",
    "betacv = zeros(1,nalpha);\n",
    "\n",
    "for k = 1:nalpha\n",
    "\n",
    "    alpha = alphav(k);\n",
    "    Iax = zeros(oa,ma);\n",
    "    Iax(1:4,1:4) = eye(4);\n",
    "    Iax(1:4,5) = -alpha*ones(1,4);\n",
    "\n",
    "    cvx_begin sdp quiet\n",
    "\n",
    "        variable Nae(da,da,oa,oa) hermitian semidefinite\n",
    "        variable qe(oa) nonnegative\n",
    "    \n",
    "        expression beta\n",
    "    \n",
    "        beta = 0;\n",
    "        for a = 1:oa\n",
    "            for x = 1:ma\n",
    "                beta = beta + Iax(a,x)*trace(sum(Nae(:,:,a,:),4)*omegax(:,:,x));\n",
    "            end\n",
    "        end\n",
    "    \n",
    "        maximise beta\n",
    "    \n",
    "        sumall(conj(repmat(omegax(:,:,5),[1,1,oa,oa])).*Nae.*...\n",
    "            permute(repmat(eye(oa),[1,1,da,da]),[3,4,1,2])) == 1/3\n",
    "    \n",
    "        for e = 1:oa\n",
    "            sum(Nae(:,:,:,e),3) == qe(e)*eye(da)\n",
    "        end\n",
    "    \n",
    "        sum(qe) == 1\n",
    "    \n",
    "    cvx_end\n",
    "\n",
    "    betacv(k) = cvx_optval;\n",
    "\n",
    "end"
   ]
  },
  {
   "cell_type": "code",
   "execution_count": 63,
   "metadata": {},
   "outputs": [
    {
     "data": {
      "image/png": "[encoded data removed]",
      "text/plain": [
       "<IPython.core.display.Image object>"
      ]
     },
     "metadata": {},
     "output_type": "display_data"
    }
   ],
   "source": [
    "plot(alphav,betacv,[alphav(1),alphav(end)],[betacv(1),betacv(end)])"
   ]
  },
  {
   "cell_type": "code",
   "execution_count": 64,
   "metadata": {},
   "outputs": [
    {
     "name": "stdout",
     "output_type": "stream",
     "text": [
      "ans =\n",
      "         0    4.0000\n",
      "    0.0500    3.9525\n",
      "    0.1000    3.9055\n",
      "    0.1500    3.8589\n",
      "    0.2000    3.8128\n",
      "    0.2500    3.7673\n",
      "    0.3000    3.7222\n",
      "    0.3500    3.6776\n",
      "    0.4000    3.6336\n",
      "    0.4500    3.5900\n",
      "    0.5000    3.5470\n"
     ]
    }
   ],
   "source": [
    "[alphav' betacv']"
   ]
  },
  {
   "cell_type": "markdown",
   "metadata": {},
   "source": [
    "# 22nd June 2018"
   ]
  },
  {
   "cell_type": "markdown",
   "metadata": {},
   "source": [
    "Gustavo sent the new data for different coherent states, so here we want to analyse them"
   ]
  },
  {
   "cell_type": "markdown",
   "metadata": {},
   "source": [
    "$\\mu = 0.1$"
   ]
  },
  {
   "cell_type": "markdown",
   "metadata": {},
   "source": [
    "First, let's look for a large range of $\\alpha$, so check the behaviour"
   ]
  },
  {
   "cell_type": "code",
   "execution_count": 25,
   "metadata": {},
   "outputs": [
    {
     "name": "stdout",
     "output_type": "stream",
     "text": [
      "Pax =\n",
      "    1.0000         0         0         0    0.2398\n",
      "         0    1.0000         0         0    0.2398\n",
      "         0         0    1.0000         0    0.2398\n",
      "         0         0         0    1.0000    0.2398\n",
      "         0         0         0         0    0.0068\n",
      "         0         0         0         0    0.0068\n",
      "         0         0         0         0    0.0068\n",
      "         0         0         0         0    0.0068\n",
      "         0         0         0         0    0.0068\n",
      "         0         0         0         0    0.0068\n"
     ]
    }
   ],
   "source": [
    "p0 = 0;%0.904837 % we are post-selecting the data\n",
    "p1 = 0.0904837; \n",
    "p2 = 0.00452419; \n",
    "\n",
    "psum = p0+p1+p2;\n",
    "p0 = p0/psum;\n",
    "p1 = p1/psum;\n",
    "p2 = p2/psum;\n",
    "\n",
    "oa = 10; % number of outcomes\n",
    "ma = 5; % number of states;\n",
    "\n",
    "Pax = zeros(oa,ma);\n",
    "\n",
    "for x = 1:4\n",
    "    Pax(x,x) = p1+p2;\n",
    "end\n",
    "\n",
    "for a = 1:4\n",
    "    Pax(a,5) = p1/4 + p2/28;\n",
    "end\n",
    "\n",
    "for a = 5:10\n",
    "    Pax(a,5) = 4*p2/28;\n",
    "end\n",
    "\n",
    "Pax\n",
    "\n",
    "d = 15;\n",
    "kets = eye(d);\n",
    "omegax = zeros(d,d,ma);\n",
    "\n",
    "omegax(:,:,1) = p0*kets(:,1)*kets(1,:) + p1*kets(:,2)*kets(2,:) + p2*kets(:,6)*kets(6,:);\n",
    "omegax(:,:,2) = p0*kets(:,1)*kets(1,:) + p1*kets(:,3)*kets(3,:) + p2*kets(:,7)*kets(7,:);\n",
    "omegax(:,:,3) = p0*kets(:,1)*kets(1,:) + p1*kets(:,4)*kets(4,:) + p2*kets(:,8)*kets(8,:);\n",
    "omegax(:,:,4) = p0*kets(:,1)*kets(1,:) + p1*kets(:,5)*kets(5,:) + p2*kets(:,9)*kets(9,:);\n",
    "\n",
    "chi = 1/2*(1i*kets(:,2) + kets(:,3) -1i*kets(:,4) + kets(:,5));\n",
    "chi2 = (-kets(:,6)+kets(:,7)-kets(:,8)+kets(:,9)+2*1i*kets(:,15)+2*kets(:,14)...\n",
    "        +2*1i*kets(:,13)-2*1i*kets(:,12)+2*kets(:,11)-2*1i*kets(:,10));\n",
    "chi2 = chi2/sqrt(trace(chi2*chi2'));\n",
    "\n",
    "omegax(:,:,5) = p0*kets(:,1)*kets(1,:) + p1*chi*chi' + p2*chi2*chi2';\n",
    "\n",
    "nalpha = 101;\n",
    "alphav = linspace(0,0.5,nalpha);\n",
    "\n",
    "Hminv1 = zeros(1,nalpha);\n",
    "\n",
    "for k = 1:nalpha\n",
    "\n",
    "    alpha = alphav(k);\n",
    "    Iax = zeros(oa,ma);\n",
    "    Iax(1:4,1:4) = eye(4);\n",
    "    Iax(1:4,5) = -alpha*ones(1,4);\n",
    "    betaobs = sumall(Iax.*Pax);\n",
    "    \n",
    "    Pg = MDIRandomnessIneq(Iax,betaobs,omegax);\n",
    "    Hminv1(k) = -log2(Pg);\n",
    "    \n",
    "end"
   ]
  },
  {
   "cell_type": "code",
   "execution_count": 26,
   "metadata": {},
   "outputs": [
    {
     "data": {
      "image/png": "[encoded data removed]",
      "text/plain": [
       "<IPython.core.display.Image object>"
      ]
     },
     "metadata": {},
     "output_type": "display_data"
    }
   ],
   "source": [
    "plot(alphav,Hminv1,'LineWidth',1)\n",
    "xlabel('$\\alpha$')\n",
    "ylabel('$H_{mins}(x^* = 5)$')\n",
    "title('$\\mu = 0.1$')\n",
    "\n",
    "Fig = gca;\n",
    "Fig.FontSize = 16;"
   ]
  },
  {
   "cell_type": "code",
   "execution_count": 30,
   "metadata": {},
   "outputs": [
    {
     "name": "stdout",
     "output_type": "stream",
     "text": [
      "ans =\n",
      "    2.0587\n"
     ]
    }
   ],
   "source": [
    "max(Hminv1)"
   ]
  },
  {
   "cell_type": "markdown",
   "metadata": {},
   "source": [
    "We see that the maximal amount of randomness is certified in the limit $\\alpha \\to 0$. Let's therefore check this in more detail"
   ]
  },
  {
   "cell_type": "code",
   "execution_count": 32,
   "metadata": {},
   "outputs": [
    {
     "name": "stdout",
     "output_type": "stream",
     "text": [
      "Pax =\n",
      "    1.0000         0         0         0    0.2398\n",
      "         0    1.0000         0         0    0.2398\n",
      "         0         0    1.0000         0    0.2398\n",
      "         0         0         0    1.0000    0.2398\n",
      "         0         0         0         0    0.0068\n",
      "         0         0         0         0    0.0068\n",
      "         0         0         0         0    0.0068\n",
      "         0         0         0         0    0.0068\n",
      "         0         0         0         0    0.0068\n",
      "         0         0         0         0    0.0068\n"
     ]
    }
   ],
   "source": [
    "p0 = 0;%0.904837 % we are post-selecting the data\n",
    "p1 = 0.0904837; \n",
    "p2 = 0.00452419; \n",
    "\n",
    "psum = p0+p1+p2;\n",
    "p0 = p0/psum;\n",
    "p1 = p1/psum;\n",
    "p2 = p2/psum;\n",
    "\n",
    "oa = 10; % number of outcomes\n",
    "ma = 5; % number of states;\n",
    "\n",
    "Pax = zeros(oa,ma);\n",
    "\n",
    "for x = 1:4\n",
    "    Pax(x,x) = p1+p2;\n",
    "end\n",
    "\n",
    "for a = 1:4\n",
    "    Pax(a,5) = p1/4 + p2/28;\n",
    "end\n",
    "\n",
    "for a = 5:10\n",
    "    Pax(a,5) = 4*p2/28;\n",
    "end\n",
    "\n",
    "Pax\n",
    "\n",
    "d = 15;\n",
    "kets = eye(d);\n",
    "omegax = zeros(d,d,ma);\n",
    "\n",
    "omegax(:,:,1) = p0*kets(:,1)*kets(1,:) + p1*kets(:,2)*kets(2,:) + p2*kets(:,6)*kets(6,:);\n",
    "omegax(:,:,2) = p0*kets(:,1)*kets(1,:) + p1*kets(:,3)*kets(3,:) + p2*kets(:,7)*kets(7,:);\n",
    "omegax(:,:,3) = p0*kets(:,1)*kets(1,:) + p1*kets(:,4)*kets(4,:) + p2*kets(:,8)*kets(8,:);\n",
    "omegax(:,:,4) = p0*kets(:,1)*kets(1,:) + p1*kets(:,5)*kets(5,:) + p2*kets(:,9)*kets(9,:);\n",
    "\n",
    "chi = 1/2*(1i*kets(:,2) + kets(:,3) -1i*kets(:,4) + kets(:,5));\n",
    "chi2 = (-kets(:,6)+kets(:,7)-kets(:,8)+kets(:,9)+2*1i*kets(:,15)+2*kets(:,14)...\n",
    "        +2*1i*kets(:,13)-2*1i*kets(:,12)+2*kets(:,11)-2*1i*kets(:,10));\n",
    "chi2 = chi2/sqrt(trace(chi2*chi2'));\n",
    "\n",
    "omegax(:,:,5) = p0*kets(:,1)*kets(1,:) + p1*chi*chi' + p2*chi2*chi2';\n",
    "\n",
    "alphasv = [1E-5 1E-4 1E-3 1E-2 1E-1];\n",
    "nalphas = length(alphasv);\n",
    "\n",
    "Hminv1s = zeros(1,nalphas);\n",
    "\n",
    "for k = 1:nalphas\n",
    "\n",
    "    alpha = alphasv(k);\n",
    "    Iax = zeros(oa,ma);\n",
    "    Iax(1:4,1:4) = eye(4);\n",
    "    Iax(1:4,5) = -alpha*ones(1,4);\n",
    "    betaobs = sumall(Iax.*Pax);\n",
    "    \n",
    "    Pg = MDIRandomnessIneq(Iax,betaobs,omegax);\n",
    "    Hminv1s(k) = -log2(Pg);\n",
    "    \n",
    "end"
   ]
  },
  {
   "cell_type": "code",
   "execution_count": 44,
   "metadata": {},
   "outputs": [
    {
     "data": {
      "image/png": "[encoded data removed]",
      "text/plain": [
       "<IPython.core.display.Image object>"
      ]
     },
     "metadata": {},
     "output_type": "display_data"
    }
   ],
   "source": [
    "semilogx(alphasv,Hminv1s,'*-','LineWidth',1)\n",
    "xlabel('$\\alpha$')\n",
    "ylabel('$H_{min}(x^* = 5)$')\n",
    "title('$\\mu = 0.1$')\n",
    "\n",
    "Fig = gca;\n",
    "Fig.FontSize = 16;"
   ]
  },
  {
   "cell_type": "markdown",
   "metadata": {},
   "source": [
    "So, it's clear that the amount of randomness doesn't change too much as soon as $\\alpha <= 0.1$, ranging from $\\approx$ 2.035 to 2.060"
   ]
  },
  {
   "cell_type": "markdown",
   "metadata": {},
   "source": [
    "$\\mu = 0.3$"
   ]
  },
  {
   "cell_type": "code",
   "execution_count": 27,
   "metadata": {},
   "outputs": [
    {
     "name": "stdout",
     "output_type": "stream",
     "text": [
      "Pax =\n",
      "    1.0000         0         0         0    0.2220\n",
      "         0    1.0000         0         0    0.2220\n",
      "         0         0    1.0000         0    0.2220\n",
      "         0         0         0    1.0000    0.2220\n",
      "         0         0         0         0    0.0186\n",
      "         0         0         0         0    0.0186\n",
      "         0         0         0         0    0.0186\n",
      "         0         0         0         0    0.0186\n",
      "         0         0         0         0    0.0186\n",
      "         0         0         0         0    0.0186\n"
     ]
    }
   ],
   "source": [
    "p0 = 0;% 0.740818 % we are post-selecting the data\n",
    "p1 = 0.222245;\n",
    "p2 = 0.0333368;\n",
    "\n",
    "psum = p0+p1+p2;\n",
    "p0 = p0/psum;\n",
    "p1 = p1/psum;\n",
    "p2 = p2/psum;\n",
    "\n",
    "oa = 10; % number of outcomes\n",
    "ma = 5; % number of states;\n",
    "\n",
    "Pax = zeros(oa,ma);\n",
    "\n",
    "for x = 1:4\n",
    "    Pax(x,x) = p1+p2;\n",
    "end\n",
    "\n",
    "for a = 1:4\n",
    "    Pax(a,5) = p1/4 + p2/28;\n",
    "end\n",
    "\n",
    "for a = 5:10\n",
    "    Pax(a,5) = 4*p2/28;\n",
    "end\n",
    "\n",
    "Pax\n",
    "\n",
    "d = 15;\n",
    "kets = eye(d);\n",
    "omegax = zeros(d,d,ma);\n",
    "\n",
    "omegax(:,:,1) = p0*kets(:,1)*kets(1,:) + p1*kets(:,2)*kets(2,:) + p2*kets(:,6)*kets(6,:);\n",
    "omegax(:,:,2) = p0*kets(:,1)*kets(1,:) + p1*kets(:,3)*kets(3,:) + p2*kets(:,7)*kets(7,:);\n",
    "omegax(:,:,3) = p0*kets(:,1)*kets(1,:) + p1*kets(:,4)*kets(4,:) + p2*kets(:,8)*kets(8,:);\n",
    "omegax(:,:,4) = p0*kets(:,1)*kets(1,:) + p1*kets(:,5)*kets(5,:) + p2*kets(:,9)*kets(9,:);\n",
    "\n",
    "chi = 1/2*(1i*kets(:,2) + kets(:,3) -1i*kets(:,4) + kets(:,5));\n",
    "chi2 = (-kets(:,6)+kets(:,7)-kets(:,8)+kets(:,9)+2*1i*kets(:,15)+2*kets(:,14)...\n",
    "        +2*1i*kets(:,13)-2*1i*kets(:,12)+2*kets(:,11)-2*1i*kets(:,10));\n",
    "chi2 = chi2/sqrt(trace(chi2*chi2'));\n",
    "\n",
    "omegax(:,:,5) = p0*kets(:,1)*kets(1,:) + p1*chi*chi' + p2*chi2*chi2';\n",
    "\n",
    "nalpha = 101;\n",
    "alphav = linspace(0,0.5,nalpha);\n",
    "\n",
    "Hminv3 = zeros(1,nalpha);\n",
    "\n",
    "for k = 1:nalpha\n",
    "\n",
    "    alpha = alphav(k);\n",
    "    Iax = zeros(oa,ma);\n",
    "    Iax(1:4,1:4) = eye(4);\n",
    "    Iax(1:4,5) = -alpha*ones(1,4);\n",
    "    betaobs = sumall(Iax.*Pax);\n",
    "    \n",
    "    Pg = MDIRandomnessIneq(Iax,betaobs,omegax);\n",
    "    Hminv3(k) = -log2(Pg);\n",
    "    \n",
    "end"
   ]
  },
  {
   "cell_type": "code",
   "execution_count": 28,
   "metadata": {},
   "outputs": [
    {
     "data": {
      "image/png": "[encoded data removed]",
      "text/plain": [
       "<IPython.core.display.Image object>"
      ]
     },
     "metadata": {},
     "output_type": "display_data"
    }
   ],
   "source": [
    "plot(alphav,Hminv,'LineWidth',1)\n",
    "xlabel('$\\alpha$')\n",
    "ylabel('$H_{mins}(x^* = 5)$')\n",
    "title('$\\mu = 0.3$')\n",
    "\n",
    "Fig = gca;\n",
    "Fig.FontSize = 16;"
   ]
  },
  {
   "cell_type": "code",
   "execution_count": 31,
   "metadata": {},
   "outputs": [
    {
     "name": "stdout",
     "output_type": "stream",
     "text": [
      "ans =\n",
      "    2.1689\n"
     ]
    }
   ],
   "source": [
    "max(Hminv3)"
   ]
  },
  {
   "cell_type": "code",
   "execution_count": null,
   "metadata": {},
   "outputs": [],
   "source": []
  }
 ],
 "metadata": {
  "kernelspec": {
   "display_name": "Matlab",
   "language": "matlab",
   "name": "matlab"
  },
  "language_info": {
   "codemirror_mode": "octave",
   "file_extension": ".m",
   "help_links": [
    {
     "text": "MetaKernel Magics",
     "url": "https://github.com/calysto/metakernel/blob/master/metakernel/magics/README.md"
    }
   ],
   "mimetype": "text/x-octave",
   "name": "matlab",
   "version": "0.15.0"
  }
 },
 "nbformat": 4,
 "nbformat_minor": 2
}
