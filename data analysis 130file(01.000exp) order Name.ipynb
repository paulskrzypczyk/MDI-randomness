{
 "cells": [
  {
   "cell_type": "markdown",
   "metadata": {},
   "source": [
    "# Data analysis for $\\mu = 0.4$ 130file(01.000exp) order Name"
   ]
  },
  {
   "cell_type": "markdown",
   "metadata": {},
   "source": [
    "The code reads in the data from the associated .xlsx files, which contains information on:\n",
    "- the number of photons produced\n",
    "- the number of individual events\n",
    "- the estimated probability distribution (after post-selecting on click events)\n",
    "\n",
    "The code then runs the finite analysis SDP with a confidence parameter $\\epsilon$, in order to find out how much randomness can be certified."
   ]
  },
  {
   "cell_type": "code",
   "execution_count": 1,
   "metadata": {},
   "outputs": [
    {
     "name": "stdout",
     "output_type": "stream",
     "text": [
      "Hmin =\n",
      "  Columns 1 through 7\n",
      "    0.9842    0.9896    1.0179    1.0306    1.0361    1.0439    1.0466\n",
      "  Columns 8 through 14\n",
      "    1.0004    1.0043    0.9905    1.0316    1.0374    0.9978    1.0011\n",
      "  Columns 15 through 21\n",
      "    0.9974    0.9976    1.0039    1.0270    1.0307    1.0339    1.0358\n",
      "  Columns 22 through 28\n",
      "    1.0346    1.0394    1.0394    1.0190    1.0355    0.9696    0.9706\n",
      "  Columns 29 through 35\n",
      "    0.9744    0.9752    0.9780    0.9749    0.9651    1.0711    1.0784\n",
      "  Columns 36 through 42\n",
      "    1.0753    1.0802    1.0841    1.0871    1.0826    0.9725    0.9908\n",
      "  Columns 43 through 49\n",
      "    1.0007    1.0083    1.0076    0.9739    0.9965    1.0139    1.0262\n",
      "  Columns 50 through 56\n",
      "    1.0377    1.0427    1.0490    0.9925    0.9929    1.0233    1.0466\n",
      "  Columns 57 through 63\n",
      "    1.0578    1.0587    0.9988    1.0174    1.0317    1.0280    1.0209\n",
      "  Columns 64 through 70\n",
      "    1.0322    0.9750    1.0106    1.0187    1.0276    0.9849    1.0014\n",
      "  Columns 71 through 77\n",
      "    1.0188    1.0105    1.0190    1.0214    0.9939    1.0472    1.0466\n",
      "  Columns 78 through 84\n",
      "    0.9632    1.0030    1.0246    0.9805    0.9958    1.0124    1.0108\n",
      "  Columns 85 through 91\n",
      "    1.0145    1.0158    0.9862    1.0012    1.0174    1.0121    1.0178\n",
      "  Columns 92 through 98\n",
      "    1.0227    0.9810    1.0019    1.0163    1.0223    1.0174    0.9794\n",
      "  Columns 99 through 105\n",
      "    0.9925    1.0032    1.0105    1.0141    1.0174    0.9644    0.9929\n",
      "  Columns 106 through 112\n",
      "    1.0167    1.0308    1.0429    0.9830    1.0137    1.0299    1.0454\n",
      "  Columns 113 through 119\n",
      "    0.9994    1.0157    1.0265    1.0337    0.9727    0.9902    0.9997\n",
      "  Columns 120 through 126\n",
      "    1.0155    0.9763    1.0091    1.0170    1.0225    0.9776    0.9996\n",
      "  Columns 127 through 129\n",
      "    1.0041    1.0147    1.0179\n",
      "Elapsed time is 356.767080 seconds.\n"
     ]
    }
   ],
   "source": [
    "tic\n",
    "\n",
    "S = dir('(*.xlsx');\n",
    "nfiles = length(S);\n",
    "\n",
    "epsi = 1E-9;\n",
    "xs = 5;\n",
    "\n",
    "Pg = zeros(1,nfiles);\n",
    "Hmin = zeros(1,nfiles);\n",
    "\n",
    "for i = 1:nfiles\n",
    "    S(i).name;\n",
    "    data = xlsread(S(i).name);\n",
    "    \n",
    "    nax = data(1:5,1:10)';\n",
    "    mu = str2num(regexp(S(i).name,'(?<=_mi).+(?=_.xlsx$)','once','match'));\n",
    "    xiax = nax./(ones(10,1)*sum(nax,1));\n",
    "    \n",
    "    \n",
    "    p0 = 0; % we assume postselection\n",
    "    p1 = exp(-mu)*mu;\n",
    "    p2 = exp(-mu)*mu^2/2;\n",
    "\n",
    "    psum = p0 + p1 + p2;\n",
    "\n",
    "    p0 = p0/psum;\n",
    "    p1 = p1/psum;\n",
    "    p2 = p2/psum;\n",
    "\n",
    "    d = 15;\n",
    "    kets = eye(d);\n",
    "    omegax = zeros(d,d,5);\n",
    "\n",
    "    omegax(:,:,1) = p0*kets(:,1)*kets(1,:) + p1*kets(:,2)*kets(2,:) + p2*kets(:,6)*kets(6,:);\n",
    "    omegax(:,:,2) = p0*kets(:,1)*kets(1,:) + p1*kets(:,3)*kets(3,:) + p2*kets(:,7)*kets(7,:);\n",
    "    omegax(:,:,3) = p0*kets(:,1)*kets(1,:) + p1*kets(:,4)*kets(4,:) + p2*kets(:,8)*kets(8,:);\n",
    "    omegax(:,:,4) = p0*kets(:,1)*kets(1,:) + p1*kets(:,5)*kets(5,:) + p2*kets(:,9)*kets(9,:);\n",
    "\n",
    "    chi = 1/2*(kets(:,2) - kets(:,3) + kets(:,4) + kets(:,5));\n",
    "    chi2 = (kets(:,6) + kets(:,7) + kets(:,8) + kets(:,9) +2*kets(:,15)...\n",
    "            -2*kets(:,14)+2*kets(:,13)-2*kets(:,12)+2*kets(:,11)-2*kets(:,10));\n",
    "    chi2 = chi2/sqrt(trace(chi2*chi2'));\n",
    "\n",
    "    omegax(:,:,5) = p0*kets(:,1)*kets(1,:) + p1*chi*chi' + p2*chi2*chi2';\n",
    "    \n",
    "    [oa,ma] = size(xiax);\n",
    "\n",
    "    cvx_begin sdp quiet\n",
    "\n",
    "        variable Nae(d,d,oa,oa) hermitian semidefinite\n",
    "        variable qe(oa)\n",
    "        variable Pax(oa,ma)\n",
    "      \n",
    "        maximise real(sumall(conj(repmat(omegax(:,:,xs),[1,1,oa,oa])).*Nae.*...\n",
    "            permute(repmat(eye(oa),[1,1,d,d]),[3,4,1,2])))\n",
    "    \n",
    "        for a = 1:oa-1\n",
    "            for x = 1:ma\n",
    "                xiax(a,x) - sqrt(log(1/epsi)/2/sum(nax(:,x))) <= trace(sum(Nae(:,:,a,:),4)*omegax(:,:,x))\n",
    "                trace(sum(Nae(:,:,a,:),4)*omegax(:,:,x)) <= xiax(a,x) + sqrt(log(1/epsi)/2/sum(nax(:,x))) \n",
    "            end\n",
    "        end\n",
    "    \n",
    "    \n",
    "        for e = 1:oa \n",
    "            sum(Nae(:,:,:,e),3) == qe(e)*eye(d)\n",
    "        end\n",
    "    \n",
    "        sum(qe) == 1\n",
    "    \n",
    "    cvx_end\n",
    "\n",
    "    Pg(i) = cvx_optval;\n",
    "    Hmin(i) = -log2(cvx_optval);\n",
    "\n",
    "end\n",
    "\n",
    "Hmin\n",
    "\n",
    "toc"
   ]
  },
  {
   "cell_type": "code",
   "execution_count": 2,
   "metadata": {},
   "outputs": [
    {
     "data": {
      "image/png": "[encoded data removed]",
      "text/plain": [
       "<IPython.core.display.Image object>"
      ]
     },
     "metadata": {},
     "output_type": "display_data"
    }
   ],
   "source": [
    "plot(Hmin,'*')\n",
    "ylim([0 1.1*max(Hmin)])\n",
    "xlabel('experimental run')\n",
    "ylabel('$H_{min}(x^*)$ per round')"
   ]
  },
  {
   "cell_type": "code",
   "execution_count": 3,
   "metadata": {},
   "outputs": [
    {
     "name": "stdout",
     "output_type": "stream",
     "text": [
      "ans =\n",
      "    0.9632    1.0871\n"
     ]
    }
   ],
   "source": [
    "[min(Hmin) max(Hmin)]"
   ]
  },
  {
   "cell_type": "code",
   "execution_count": null,
   "metadata": {},
   "outputs": [],
   "source": []
  }
 ],
 "metadata": {
  "kernelspec": {
   "display_name": "Matlab",
   "language": "matlab",
   "name": "matlab"
  },
  "language_info": {
   "codemirror_mode": "octave",
   "file_extension": ".m",
   "help_links": [
    {
     "text": "MetaKernel Magics",
     "url": "https://github.com/calysto/metakernel/blob/master/metakernel/magics/README.md"
    }
   ],
   "mimetype": "text/x-octave",
   "name": "matlab",
   "version": "0.15.0"
  }
 },
 "nbformat": 4,
 "nbformat_minor": 2
}
